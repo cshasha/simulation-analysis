{
 "cells": [
  {
   "cell_type": "code",
   "execution_count": 33,
   "metadata": {
    "collapsed": true
   },
   "outputs": [],
   "source": [
    "from numpy import genfromtxt\n",
    "import numpy as np\n",
    "import math\n",
    "from pylab import *\n",
    "import urllib\n",
    "import os\n",
    "import matplotlib.pyplot as pl\n",
    "import pandas as pd\n",
    "from sklearn.metrics import mean_squared_error\n",
    "from __future__ import division\n",
    "from scipy.optimize import curve_fit\n",
    "from sklearn.model_selection import train_test_split\n",
    "from sklearn.linear_model import LinearRegression\n",
    "from sklearn.ensemble import RandomForestRegressor\n",
    "from sklearn.svm import SVR\n",
    "from lmfit import Model\n",
    "pl.style.use('seaborn-dark-palette')\n",
    "pl.rc('font',family='Arial')"
   ]
  },
  {
   "cell_type": "markdown",
   "metadata": {},
   "source": [
    "### constants"
   ]
  },
  {
   "cell_type": "code",
   "execution_count": 7,
   "metadata": {
    "collapsed": true
   },
   "outputs": [],
   "source": [
    "temp = 300.\n",
    "Ms = 420000.\n",
    "kb = 1.381e-23 \n",
    "tau0 = 1e-10\n",
    "mu0 = 4*np.pi*1e-7"
   ]
  },
  {
   "cell_type": "code",
   "execution_count": 8,
   "metadata": {
    "collapsed": true
   },
   "outputs": [],
   "source": [
    "def visc_calc(T, mass_fraction):\n",
    "    glycerolDen = (1273.3-0.6121*T)/1000 \t\t\t#Density of Glycerol (g/cm3)\n",
    "    waterDen = (1-math.pow(((abs(T-4))/622),1.7)) \t#Density of water (g/cm3)\n",
    "    \n",
    "    ##Andreas Volk polynomial method\n",
    "    contraction_av = 1-math.pow(3.520E-8*((mass_fraction*100)),3)+math.pow(1.027E-6*((mass_fraction*100)),2)+2.5E-4*(mass_fraction*100)-1.691E-4\n",
    "    contraction = 1+contraction_av/100\n",
    "    \n",
    "    glycerolVisc=0.001*12100*np.exp((-1233+T)*T/(9900+70*T))\n",
    "    waterVisc=0.001*1.790*np.exp((-1230-T)*T/(36100+360*T))\n",
    "    \n",
    "    a=0.705-0.0017*T\n",
    "    b=(4.9+0.036*T)*np.power(a,2.5)\n",
    "    alpha=1-mass_fraction+(a*b*mass_fraction*(1-mass_fraction))/(a*mass_fraction+b*(1-mass_fraction))\n",
    "    A=np.log(waterVisc/glycerolVisc)\n",
    "    \n",
    "    viscosity_mix=glycerolVisc*np.exp(A*alpha)\n",
    "    \n",
    "    return viscosity_mix\n",
    "\n",
    "def power(my_list, p):\n",
    "    return [ x**p for x in my_list ]\n",
    "\n",
    "def calc_neel(size, k):\n",
    "    neel = []\n",
    "    for x in range(len(size)):\n",
    "        neel.append(tau0*np.exp(k[x]*4*np.pi*(1e-9*float(size[x]))**3*(24*kb*temp)**(-1)))\n",
    "    return neel\n",
    "\n",
    "def calc_brown(eta, hsize):\n",
    "    brown = []\n",
    "    for x in range(len(eta)):\n",
    "        brown.append(eta[x]*np.pi*(hsize[x]*1e-9)**3*(2*kb*temp)**(-1))\n",
    "    return brown\n",
    "\n",
    "def vol(my_list):\n",
    "    return[ np.pi*(1e-9*x)**3/6. for x in my_list ]\n"
   ]
  },
  {
   "cell_type": "markdown",
   "metadata": {},
   "source": [
    "### import simulation data to data frame"
   ]
  },
  {
   "cell_type": "code",
   "execution_count": 9,
   "metadata": {
    "collapsed": false
   },
   "outputs": [],
   "source": [
    "freqs = []\n",
    "fields = []\n",
    "size = []\n",
    "third = []\n",
    "fifth = []\n",
    "hsize = []\n",
    "sigma = []\n",
    "eta = []\n",
    "b = []\n",
    "K = []\n",
    "phase1 = []\n",
    "phase3 = []\n",
    "gyro = []\n",
    "\n",
    "for f in os.listdir('fits'):\n",
    "    if f[-1] == 'v':\n",
    "        filename = 'fits/' + f\n",
    "        filedata = np.genfromtxt(filename, delimiter=',')\n",
    "        f = f[:-4]\n",
    "        s = str.split(f,\"_\")\n",
    "        size.append(float(s[0][:-2]))\n",
    "        fields.append(float(s[1][:-2]))\n",
    "        freqs.append(int(s[2][:-3])*1000)\n",
    "        sigma.append(0.1)\n",
    "        eta.append(8.9e-4)\n",
    "        moment = filedata[:,1]\n",
    "        third.append(abs(np.fft.fft(moment)[3]))\n",
    "        fifth.append(abs(np.fft.fft(moment)[5]))\n",
    "        phase1.append(np.angle(np.fft.fft(moment)[1]))\n",
    "        phase3.append(np.angle(np.fft.fft(moment)[3]))\n",
    "        if s[-1] == \"frozen\":\n",
    "            b.append(\"off\")\n",
    "        else:\n",
    "            b.append(\"on\")     \n",
    "        g = 1.\n",
    "        h = 50.\n",
    "        k = 5000.\n",
    "        for ss in range(2,len(s)):\n",
    "            if s[ss][0] == \"g\":\n",
    "                g = float(s[ss][1:])\n",
    "            if s[ss][0] == \"K\":\n",
    "                k = 1000*float(s[ss][1:])\n",
    "                if k > 25000:\n",
    "                    k /= 1000.\n",
    "            if s[ss][0] == \"H\":\n",
    "                h = float(s[ss][1:])\n",
    "        K.append(k)\n",
    "        hsize.append(h)\n",
    "        gyro.append(g)\n",
    "            \n",
    "sdata = pd.DataFrame({'frequency': freqs, 'field': fields,'size': size, 'sigma': sigma, \\\n",
    "                     'third': third, 'fifth': fifth, 'hsize': hsize, 'eta': eta, 'b': b, \\\n",
    "                     'K': K, 'phase1': phase1, 'phase3': phase3, 'gyro': gyro})\n",
    "\n",
    "sdata['5:3'] = sdata['fifth']/sdata['third']\n",
    "sdata['angF'] = 2*np.pi*sdata['frequency']\n",
    "sdata['Vc'] = vol(sdata['size'])\n",
    "sdata['Ms'] = 393023 * (1 - np.exp(-2.78258e8 * sdata['size']*1e-9))**57.87571 \n",
    "sdata['tauB'] = calc_brown(sdata['eta'],sdata['hsize'])\n",
    "sdata['tauN'] = calc_neel(sdata['size'], sdata['K'])\n",
    "sdata['tan1'] = abs(np.tan(sdata['phase1']))\n",
    "sdata['tan3'] = abs(np.tan(sdata['phase3']))\n",
    "sdata['tau'] = sdata['tan1']/sdata['angF']\n",
    "\n",
    "for index, row in sdata.iterrows():\n",
    "    T = row['frequency']**(-1)\n",
    "    t = np.arange(0,T,T/1000.)\n",
    "    H = 0.001*row['field']*np.cos(row['angF']*t)\n",
    "    V = (4/3)*np.pi*(row['size']*1e-9/2)**3\n",
    "    xi = row['Ms']*V*H/(kb*temp)\n",
    "    L = np.cosh(xi)/np.sinh(xi) - 1/xi\n",
    "    sdata.loc[index,'L5:3'] = abs(np.fft.fft(L)[5])/abs(np.fft.fft(L)[3])"
   ]
  },
  {
   "cell_type": "markdown",
   "metadata": {},
   "source": [
    "### train model"
   ]
  },
  {
   "cell_type": "code",
   "execution_count": 14,
   "metadata": {
    "collapsed": false
   },
   "outputs": [
    {
     "name": "stdout",
     "output_type": "stream",
     "text": [
      "0.999793686945\n"
     ]
    }
   ],
   "source": [
    "mldata = sdata[(sdata['b'] == 'off') & (sdata['field'] > 2) & (sdata['size'] > 12)& (sdata['K'] == 5000)& (sdata['gyro'] == 1)& (sdata['hsize'] == 50)]\n",
    "X = mldata[['field','frequency','size']]\n",
    "Y = mldata[['tan1']]\n",
    "X_train, X_test , Y_train , Y_test = train_test_split(X,Y,test_size=0.15,random_state=26)\n",
    "model = RandomForestRegressor(n_estimators=100, max_features=3)\n",
    "model.fit(X_train, Y_train.values.ravel())\n",
    "print(model.score(X_train,Y_train))"
   ]
  },
  {
   "cell_type": "markdown",
   "metadata": {},
   "source": [
    "### predict: field, frequency, size"
   ]
  },
  {
   "cell_type": "code",
   "execution_count": 55,
   "metadata": {
    "collapsed": false
   },
   "outputs": [
    {
     "data": {
      "image/png": "[encoded data removed]",
      "text/plain": [
       "<matplotlib.figure.Figure at 0x1a31ab9748>"
      ]
     },
     "metadata": {},
     "output_type": "display_data"
    }
   ],
   "source": [
    "field = 32.5\n",
    "frequency = 27532\n",
    "size = 28\n",
    "\n",
    "field_sub = 32\n",
    "size_sub = 28\n",
    "\n",
    "p = model.predict([[field,frequency,size]])\n",
    "sub = mldata[(mldata['field'] == field_sub) & (mldata['size'] == size_sub)]\n",
    "sub = sub.sort_values(by=['frequency'])\n",
    "\n",
    "fig, ax = pl.subplots(figsize=(12,8))\n",
    "pl.scatter(sub['frequency']/1000., sub['tan1'],c=\"black\",alpha=0.7)\n",
    "pl.scatter(frequency/1000., p, marker='P',c=\"red\")\n",
    "pl.ylabel('phase lag (omega*tau)',fontsize=14)\n",
    "pl.xlabel('frequency (kHz)',fontsize=14)\n",
    "\n",
    "pl.xlim(0,52)\n",
    "pl.ylim(0,0.4)\n",
    "pl.show()"
   ]
  },
  {
   "cell_type": "code",
   "execution_count": null,
   "metadata": {
    "collapsed": true
   },
   "outputs": [],
   "source": []
  }
 ],
 "metadata": {
  "anaconda-cloud": {},
  "kernelspec": {
   "display_name": "Python [conda env:miniconda3]",
   "language": "python",
   "name": "conda-env-miniconda3-py"
  },
  "language_info": {
   "codemirror_mode": {
    "name": "ipython",
    "version": 3
   },
   "file_extension": ".py",
   "mimetype": "text/x-python",
   "name": "python",
   "nbconvert_exporter": "python",
   "pygments_lexer": "ipython3",
   "version": "3.5.2"
  }
 },
 "nbformat": 4,
 "nbformat_minor": 1
}
