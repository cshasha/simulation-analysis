{
 "cells": [
  {
   "cell_type": "code",
   "execution_count": 1,
   "metadata": {
    "collapsed": true
   },
   "outputs": [],
   "source": [
    "from numpy import genfromtxt\n",
    "import numpy as np\n",
    "import math\n",
    "from pylab import *\n",
    "import urllib\n",
    "import os\n",
    "import matplotlib.pyplot as pl\n",
    "import pandas as pd\n",
    "from scipy.stats import lognorm\n",
    "from sklearn.metrics import mean_squared_error\n",
    "from __future__ import division\n",
    "from scipy.optimize import curve_fit\n",
    "from sklearn.model_selection import train_test_split\n",
    "from sklearn.linear_model import LinearRegression\n",
    "from sklearn.ensemble import RandomForestRegressor\n",
    "from sklearn.svm import SVR\n",
    "from lmfit import Model\n",
    "pl.style.use('seaborn')\n",
    "pl.rc('font',family='Arial')"
   ]
  },
  {
   "cell_type": "markdown",
   "metadata": {},
   "source": [
    "### constants"
   ]
  },
  {
   "cell_type": "code",
   "execution_count": 2,
   "metadata": {
    "collapsed": true
   },
   "outputs": [],
   "source": [
    "temp = 300.\n",
    "kb = 1.381e-23 \n",
    "tau0 = 1e-9\n",
    "mu0 = 4*np.pi*1e-7"
   ]
  },
  {
   "cell_type": "code",
   "execution_count": 3,
   "metadata": {
    "collapsed": true
   },
   "outputs": [],
   "source": [
    "def visc_calc(T, mass_fraction):\n",
    "    glycerolDen = (1273.3-0.6121*T)/1000 \t\t\t#Density of Glycerol (g/cm3)\n",
    "    waterDen = (1-math.pow(((abs(T-4))/622),1.7)) \t#Density of water (g/cm3)\n",
    "    \n",
    "    ##Andreas Volk polynomial method\n",
    "    contraction_av = 1-math.pow(3.520E-8*((mass_fraction*100)),3)+math.pow(1.027E-6*((mass_fraction*100)),2)+2.5E-4*(mass_fraction*100)-1.691E-4\n",
    "    contraction = 1+contraction_av/100\n",
    "    \n",
    "    glycerolVisc=0.001*12100*np.exp((-1233+T)*T/(9900+70*T))\n",
    "    waterVisc=0.001*1.790*np.exp((-1230-T)*T/(36100+360*T))\n",
    "    \n",
    "    a=0.705-0.0017*T\n",
    "    b=(4.9+0.036*T)*np.power(a,2.5)\n",
    "    alpha=1-mass_fraction+(a*b*mass_fraction*(1-mass_fraction))/(a*mass_fraction+b*(1-mass_fraction))\n",
    "    A=np.log(waterVisc/glycerolVisc)\n",
    "    \n",
    "    viscosity_mix=glycerolVisc*np.exp(A*alpha)\n",
    "    \n",
    "    return viscosity_mix\n",
    "\n",
    "def power(my_list, p):\n",
    "    return [ x**p for x in my_list ]\n",
    "\n",
    "def calc_neel(size, k):\n",
    "    neel = []\n",
    "    for x in range(len(size)):\n",
    "        neel.append(tau0*np.exp(k[x]*4*np.pi*(1e-9*float(size[x]))**3*(24*kb*temp)**(-1)))\n",
    "    return neel\n",
    "\n",
    "def calc_brown(eta, hsize):\n",
    "    brown = []\n",
    "    for x in range(len(eta)):\n",
    "        brown.append(eta[x]*np.pi*(hsize[x]*1e-9)**3*(2*kb*temp)**(-1))\n",
    "    return brown\n",
    "\n",
    "def vol(my_list):\n",
    "    return[ np.pi*(1e-9*x)**3/6. for x in my_list ]\n"
   ]
  },
  {
   "cell_type": "markdown",
   "metadata": {},
   "source": [
    "### import data"
   ]
  },
  {
   "cell_type": "code",
   "execution_count": 4,
   "metadata": {
    "collapsed": true
   },
   "outputs": [
    {
     "name": "stderr",
     "output_type": "stream",
     "text": [
      "/Users/shasha/miniconda3/lib/python3.5/site-packages/ipykernel/__main__.py:66: ConversionWarning: Some errors were detected !\n",
      "    Line #14 (got 14 columns instead of 24)\n",
      "    Line #15 (got 14 columns instead of 24)\n",
      "    Line #16 (got 14 columns instead of 24)\n",
      "    Line #17 (got 14 columns instead of 24)\n",
      "    Line #18 (got 14 columns instead of 24)\n",
      "    Line #19 (got 14 columns instead of 24)\n",
      "    Line #20 (got 14 columns instead of 24)\n",
      "    Line #21 (got 14 columns instead of 24)\n",
      "    Line #22 (got 14 columns instead of 24)\n",
      "    Line #23 (got 14 columns instead of 24)\n",
      "    Line #24 (got 14 columns instead of 24)\n",
      "    Line #25 (got 14 columns instead of 24)\n",
      "    Line #26 (got 14 columns instead of 24)\n",
      "    Line #27 (got 14 columns instead of 24)\n",
      "/Users/shasha/miniconda3/lib/python3.5/site-packages/ipykernel/__main__.py:66: ConversionWarning: Some errors were detected !\n",
      "    Line #34 (got 14 columns instead of 24)\n",
      "    Line #35 (got 14 columns instead of 24)\n",
      "    Line #36 (got 14 columns instead of 24)\n",
      "    Line #37 (got 14 columns instead of 24)\n",
      "    Line #38 (got 14 columns instead of 24)\n",
      "    Line #39 (got 14 columns instead of 24)\n",
      "    Line #40 (got 14 columns instead of 24)\n",
      "    Line #41 (got 14 columns instead of 24)\n",
      "    Line #42 (got 14 columns instead of 24)\n",
      "    Line #43 (got 14 columns instead of 24)\n",
      "    Line #44 (got 14 columns instead of 24)\n",
      "    Line #45 (got 14 columns instead of 24)\n",
      "    Line #46 (got 14 columns instead of 24)\n",
      "    Line #47 (got 14 columns instead of 24)\n",
      "    Line #48 (got 14 columns instead of 24)\n",
      "    Line #49 (got 14 columns instead of 24)\n",
      "    Line #50 (got 14 columns instead of 24)\n",
      "    Line #51 (got 14 columns instead of 24)\n",
      "    Line #52 (got 14 columns instead of 24)\n",
      "    Line #53 (got 14 columns instead of 24)\n",
      "    Line #54 (got 14 columns instead of 24)\n",
      "    Line #55 (got 14 columns instead of 24)\n",
      "    Line #56 (got 14 columns instead of 24)\n",
      "    Line #57 (got 14 columns instead of 24)\n",
      "    Line #58 (got 14 columns instead of 24)\n",
      "    Line #59 (got 14 columns instead of 24)\n",
      "    Line #60 (got 14 columns instead of 24)\n",
      "    Line #61 (got 14 columns instead of 24)\n",
      "    Line #62 (got 14 columns instead of 24)\n",
      "    Line #63 (got 14 columns instead of 24)\n",
      "    Line #64 (got 14 columns instead of 24)\n",
      "    Line #65 (got 14 columns instead of 24)\n",
      "    Line #66 (got 14 columns instead of 24)\n",
      "/Users/shasha/miniconda3/lib/python3.5/site-packages/ipykernel/__main__.py:66: ConversionWarning: Some errors were detected !\n",
      "    Line #34 (got 14 columns instead of 24)\n",
      "    Line #35 (got 14 columns instead of 24)\n",
      "    Line #36 (got 14 columns instead of 24)\n",
      "    Line #37 (got 14 columns instead of 24)\n",
      "    Line #38 (got 14 columns instead of 24)\n",
      "    Line #39 (got 14 columns instead of 24)\n",
      "    Line #40 (got 14 columns instead of 24)\n",
      "    Line #41 (got 14 columns instead of 24)\n",
      "    Line #42 (got 14 columns instead of 24)\n",
      "    Line #43 (got 14 columns instead of 24)\n",
      "    Line #44 (got 14 columns instead of 24)\n",
      "    Line #45 (got 14 columns instead of 24)\n",
      "    Line #46 (got 14 columns instead of 24)\n",
      "    Line #47 (got 14 columns instead of 24)\n",
      "    Line #48 (got 14 columns instead of 24)\n",
      "    Line #49 (got 14 columns instead of 24)\n",
      "    Line #50 (got 14 columns instead of 24)\n",
      "    Line #51 (got 14 columns instead of 24)\n",
      "    Line #52 (got 14 columns instead of 24)\n",
      "    Line #53 (got 14 columns instead of 24)\n",
      "    Line #54 (got 14 columns instead of 24)\n",
      "    Line #55 (got 14 columns instead of 24)\n",
      "    Line #56 (got 14 columns instead of 24)\n",
      "    Line #57 (got 14 columns instead of 24)\n",
      "    Line #58 (got 14 columns instead of 24)\n",
      "    Line #59 (got 14 columns instead of 24)\n",
      "    Line #60 (got 14 columns instead of 24)\n",
      "    Line #61 (got 14 columns instead of 24)\n",
      "    Line #62 (got 14 columns instead of 24)\n",
      "    Line #63 (got 14 columns instead of 24)\n",
      "    Line #64 (got 14 columns instead of 24)\n",
      "    Line #65 (got 14 columns instead of 24)\n",
      "    Line #66 (got 14 columns instead of 24)\n",
      "    Line #67 (got 14 columns instead of 24)\n",
      "/Users/shasha/miniconda3/lib/python3.5/site-packages/ipykernel/__main__.py:66: ConversionWarning: Some errors were detected !\n",
      "    Line #21 (got 19 columns instead of 24)\n",
      "    Line #22 (got 14 columns instead of 24)\n",
      "    Line #23 (got 14 columns instead of 24)\n",
      "    Line #24 (got 14 columns instead of 24)\n",
      "    Line #25 (got 14 columns instead of 24)\n",
      "    Line #26 (got 14 columns instead of 24)\n",
      "    Line #27 (got 14 columns instead of 24)\n",
      "    Line #28 (got 14 columns instead of 24)\n",
      "    Line #29 (got 14 columns instead of 24)\n",
      "    Line #30 (got 14 columns instead of 24)\n",
      "    Line #31 (got 14 columns instead of 24)\n",
      "    Line #32 (got 14 columns instead of 24)\n",
      "    Line #33 (got 14 columns instead of 24)\n",
      "    Line #34 (got 14 columns instead of 24)\n",
      "    Line #35 (got 14 columns instead of 24)\n",
      "    Line #36 (got 14 columns instead of 24)\n",
      "    Line #37 (got 14 columns instead of 24)\n",
      "    Line #38 (got 14 columns instead of 24)\n",
      "    Line #39 (got 14 columns instead of 24)\n",
      "    Line #40 (got 14 columns instead of 24)\n",
      "    Line #41 (got 14 columns instead of 24)\n",
      "    Line #42 (got 14 columns instead of 24)\n",
      "/Users/shasha/miniconda3/lib/python3.5/site-packages/ipykernel/__main__.py:66: ConversionWarning: Some errors were detected !\n",
      "    Line #21 (got 19 columns instead of 24)\n",
      "    Line #22 (got 14 columns instead of 24)\n",
      "    Line #23 (got 14 columns instead of 24)\n",
      "    Line #24 (got 14 columns instead of 24)\n",
      "    Line #25 (got 14 columns instead of 24)\n",
      "    Line #26 (got 14 columns instead of 24)\n",
      "    Line #27 (got 14 columns instead of 24)\n",
      "    Line #28 (got 14 columns instead of 24)\n",
      "    Line #29 (got 14 columns instead of 24)\n",
      "    Line #30 (got 14 columns instead of 24)\n",
      "    Line #31 (got 14 columns instead of 24)\n",
      "    Line #32 (got 14 columns instead of 24)\n",
      "    Line #33 (got 14 columns instead of 24)\n",
      "    Line #34 (got 14 columns instead of 24)\n",
      "    Line #35 (got 14 columns instead of 24)\n",
      "    Line #36 (got 14 columns instead of 24)\n",
      "    Line #37 (got 14 columns instead of 24)\n",
      "    Line #38 (got 14 columns instead of 24)\n",
      "    Line #39 (got 14 columns instead of 24)\n",
      "    Line #40 (got 14 columns instead of 24)\n",
      "    Line #41 (got 14 columns instead of 24)\n",
      "/Users/shasha/miniconda3/lib/python3.5/site-packages/ipykernel/__main__.py:66: ConversionWarning: Some errors were detected !\n",
      "    Line #21 (got 19715 columns instead of 24)\n",
      "    Line #22 (got 14 columns instead of 24)\n",
      "    Line #23 (got 14 columns instead of 24)\n",
      "    Line #24 (got 14 columns instead of 24)\n",
      "    Line #25 (got 14 columns instead of 24)\n",
      "    Line #26 (got 14 columns instead of 24)\n",
      "    Line #27 (got 14 columns instead of 24)\n",
      "    Line #28 (got 14 columns instead of 24)\n",
      "    Line #29 (got 14 columns instead of 24)\n",
      "    Line #30 (got 14 columns instead of 24)\n",
      "    Line #31 (got 14 columns instead of 24)\n",
      "    Line #32 (got 14 columns instead of 24)\n",
      "    Line #33 (got 14 columns instead of 24)\n",
      "    Line #34 (got 14 columns instead of 24)\n",
      "    Line #35 (got 14 columns instead of 24)\n",
      "    Line #36 (got 14 columns instead of 24)\n",
      "    Line #37 (got 14 columns instead of 24)\n",
      "    Line #38 (got 14 columns instead of 24)\n",
      "    Line #39 (got 14 columns instead of 24)\n",
      "    Line #40 (got 14 columns instead of 24)\n",
      "    Line #41 (got 14 columns instead of 24)\n",
      "/Users/shasha/miniconda3/lib/python3.5/site-packages/ipykernel/__main__.py:66: ConversionWarning: Some errors were detected !\n",
      "    Line #21 (got 19715 columns instead of 24)\n",
      "    Line #22 (got 14 columns instead of 24)\n",
      "    Line #23 (got 14 columns instead of 24)\n",
      "    Line #24 (got 14 columns instead of 24)\n",
      "    Line #25 (got 14 columns instead of 24)\n",
      "    Line #26 (got 14 columns instead of 24)\n",
      "    Line #27 (got 14 columns instead of 24)\n",
      "    Line #28 (got 14 columns instead of 24)\n",
      "    Line #29 (got 14 columns instead of 24)\n",
      "    Line #30 (got 14 columns instead of 24)\n",
      "    Line #31 (got 14 columns instead of 24)\n",
      "    Line #32 (got 14 columns instead of 24)\n",
      "    Line #33 (got 14 columns instead of 24)\n",
      "    Line #34 (got 14 columns instead of 24)\n",
      "    Line #35 (got 14 columns instead of 24)\n",
      "    Line #36 (got 14 columns instead of 24)\n",
      "    Line #37 (got 14 columns instead of 24)\n",
      "    Line #38 (got 14 columns instead of 24)\n",
      "    Line #39 (got 14 columns instead of 24)\n",
      "    Line #40 (got 14 columns instead of 24)\n",
      "    Line #41 (got 14 columns instead of 24)\n",
      "    Line #42 (got 14 columns instead of 24)\n"
     ]
    }
   ],
   "source": [
    "freqs = []\n",
    "fields = []\n",
    "size = []\n",
    "sigma = []\n",
    "g = []\n",
    "m = []\n",
    "third = []\n",
    "fifth = []\n",
    "label = []\n",
    "hsize = []\n",
    "#phase1 = []\n",
    "#phase3 = []\n",
    "hlabel = []\n",
    "eta = []\n",
    "Dfifth = []\n",
    "Dthird = []\n",
    "Dphase = []\n",
    "ms = []\n",
    "K = []\n",
    "\n",
    "for f in os.listdir('MPS-march'):\n",
    "    if f[-5] == \"F\":\n",
    "        filename = 'MPS-march/' + f\n",
    "        s = str.split(f,\"-\")\n",
    "        if s[0][:-3] == \"40\":\n",
    "            freqs.append(40200)\n",
    "        elif s[0][:-3] == \"25\" or s[0][:-3] == \"26\":\n",
    "            freqs.append(25250)\n",
    "        elif s[0][:-3] == \"15\":\n",
    "            freqs.append(15500)\n",
    "        filedata = np.genfromtxt(filename, delimiter=',')\n",
    "        fields.append(abs(filedata[1,0]))\n",
    "        if s[2][:-2] == \"25\":\n",
    "            size.append(25.2)\n",
    "            sigma.append(0.09)\n",
    "            hsize.append(90.)\n",
    "            ms.append(370000.)\n",
    "        elif s[2][:-2] == \"28\":\n",
    "            size.append(27.7)\n",
    "            sigma.append(0.1)\n",
    "            hsize.append(75.)\n",
    "            ms.append(390000.)\n",
    "        elif s[2][:-2] == \"22\":\n",
    "            size.append(21.9)\n",
    "            sigma.append(0.05)\n",
    "            hsize.append(90.)\n",
    "            ms.append(350000.)\n",
    "        if s[3][0] == \"g\":\n",
    "            g.append(int(s[3][1:]))\n",
    "            eta.append(visc_calc(25, int(s[3][1:])*0.01*135/150.))\n",
    "            m.append(None)\n",
    "            label.append('g')\n",
    "        elif s[3][0] == \"m\":\n",
    "            m.append(int(s[3][1:]))\n",
    "            g.append(None)\n",
    "            eta.append(None)\n",
    "            label.append('m')\n",
    "        hlabel.append(s[1][:-2])\n",
    "        moment = np.append(filedata[1:,1], filedata[1:,4])\n",
    "        third.append(abs(np.fft.fft(moment)[3]))\n",
    "        fifth.append(abs(np.fft.fft(moment)[5]))\n",
    "        K.append(5000.)\n",
    "        #phase1.append(np.angle(np.fft.fft(moment)[1]))\n",
    "        #phase3.append(np.angle(np.fft.fft(moment)[3]))\n",
    "        datfile = \"MPS-march/\"+ s[0] + \"-\" + s[1] + \"-\" + s[2] + \"-\" + s[3] + \"-_MPS_dat.csv\"\n",
    "        datfiledata = np.genfromtxt(datfile, delimiter=',',invalid_raise=False,missing_values='')[1:,:]\n",
    "        Dthird.append(datfiledata[1,15])\n",
    "        Dfifth.append(datfiledata[2,15])\n",
    "        Dphase.append(datfiledata[1,18])\n",
    "        \n",
    "data = pd.DataFrame({'frequency': freqs, 'field': fields,'size': size, 'sigma': sigma, \\\n",
    "                     'viscosity': g, 'mannitol': m, 'third': third, 'fifth': fifth, 'label': label, 'hsize': hsize, \\\n",
    "                     'hlabel': hlabel, 'eta': eta, 'dthird': Dthird, 'dfifth': Dfifth,'dphase': Dphase, 'Ms': ms,'K': K})\n",
    "\n",
    "data['5:3'] = data['fifth']/data['third']\n",
    "data['D5:3'] = data['dfifth']/data['dthird']\n",
    "data['angF'] = 2*np.pi*data['frequency']\n",
    "#data['rTime1'] = np.tan(data['phase1']/data['angF'])\n",
    "#data['rTime3'] = np.tan(data['phase3']/data['angF'])\n",
    "data['tauB'] = data['eta']*np.pi*(power(1e-9*data['hsize'], 3))*(2*kb*temp)**(-1)\n",
    "data['tauN'] = calc_neel(data['size'], data['K'])\n",
    "data['Vc'] = vol(data['size'])"
   ]
  },
  {
   "cell_type": "markdown",
   "metadata": {},
   "source": [
    "### calculate Langevin harmonics"
   ]
  },
  {
   "cell_type": "code",
   "execution_count": 5,
   "metadata": {
    "collapsed": true
   },
   "outputs": [],
   "source": [
    "for index, row in data.iterrows():\n",
    "    T = row['frequency']**(-1)\n",
    "    t = np.arange(0,T,T/1000.)\n",
    "    H = 0.001*row['field']*np.cos(row['angF']*t)\n",
    "    V = (4/3)*np.pi*(row['size']*1e-9/2)**3\n",
    "    xi = row['Ms']*V*H/(kb*temp)\n",
    "    L = np.cosh(xi)/np.sinh(xi) - 1/xi\n",
    "    data.loc[index,'L5:3'] = abs(np.fft.fft(L)[5])/abs(np.fft.fft(L)[3])"
   ]
  },
  {
   "cell_type": "markdown",
   "metadata": {},
   "source": [
    "### clean data"
   ]
  },
  {
   "cell_type": "code",
   "execution_count": 6,
   "metadata": {
    "collapsed": false
   },
   "outputs": [
    {
     "name": "stdout",
     "output_type": "stream",
     "text": [
      "1110\n",
      "1086\n",
      "1078\n",
      "1004\n",
      "1003\n",
      "957\n",
      "747\n"
     ]
    }
   ],
   "source": [
    "print(len(data))\n",
    "trimdata = data[data['5:3'] < 1]\n",
    "print(len(trimdata))\n",
    "trimdata = trimdata[(trimdata['mannitol'] < 12) | (trimdata['label'] == 'g')]\n",
    "print(len(trimdata))\n",
    "trimdata = trimdata[trimdata['field'] > 5]\n",
    "print(len(trimdata))\n",
    "trimdata = trimdata[trimdata['third'] > 1e-9]\n",
    "print(len(trimdata))\n",
    "trimdata = trimdata[trimdata['fifth'] > 1e-9]\n",
    "print(len(trimdata))\n",
    "\n",
    "for index, row in trimdata.iterrows():\n",
    "    if row['frequency'] == 40200:\n",
    "        if row['field'] > 36:\n",
    "            if row['viscosity'] == 0.0:\n",
    "                trimdata.drop(index, inplace=True)\n",
    "        elif row['field'] < 5:\n",
    "            if row['viscosity'] > 82:\n",
    "                trimdata.drop(index, inplace=True)\n",
    "        elif row['field'] > 12:\n",
    "            if row['field'] < 15:\n",
    "                if row['mannitol'] == 11.0:\n",
    "                    if row['size'] == 27.7:\n",
    "                        trimdata.drop(index, inplace=True)\n",
    "                elif row['mannitol'] == 10.0:\n",
    "                    if row['size'] == 25.2:\n",
    "                        trimdata.drop(index, inplace=True)\n",
    "    elif row['frequency'] == 25250:\n",
    "        if row['field'] > 32:\n",
    "            if row['field'] < 35:\n",
    "                if row['viscosity'] == 85.0:\n",
    "                    if row['size'] == 25.2:\n",
    "                        trimdata.drop(index, inplace=True)\n",
    "    elif row['frequency'] == 15500:\n",
    "        if row['field'] > 15.5:\n",
    "            if row['field'] < 19:\n",
    "                if row['viscosity'] == 0.0:\n",
    "                    if row['size'] == 27.7:\n",
    "                        trimdata.drop(index, inplace=True)\n",
    "        if row['field'] > 7:\n",
    "            if row['field'] < 10:\n",
    "                if row['mannitol'] == 11.0:\n",
    "                    if row['size'] == 27.7:\n",
    "                        trimdata.drop(index, inplace=True)\n",
    "\n",
    "    if row['viscosity'] == 95.0:\n",
    "        trimdata.drop(index, inplace=True)\n",
    "    elif row['viscosity'] == 85.0:\n",
    "        if row['size'] == 21.9:\n",
    "            trimdata.drop(index, inplace=True)\n",
    "        elif row['size'] == 27.7:\n",
    "            trimdata.drop(index, inplace=True)\n",
    "    elif row['viscosity'] == 4.0:\n",
    "        if row['size'] == 25.2:\n",
    "            if row['frequency'] == 25250:\n",
    "                if row['field'] > 35:\n",
    "                    trimdata.drop(index, inplace=True)\n",
    "            \n",
    "    if row['mannitol'] < 10:\n",
    "        if row['size'] == 25.2:\n",
    "            trimdata.drop(index, inplace=True)\n",
    "        elif row['size'] == 27.7:\n",
    "            trimdata.drop(index, inplace=True)\n",
    "                \n",
    "print(len(trimdata))"
   ]
  },
  {
   "cell_type": "markdown",
   "metadata": {},
   "source": [
    "### import simulation data"
   ]
  },
  {
   "cell_type": "code",
   "execution_count": 7,
   "metadata": {
    "collapsed": true
   },
   "outputs": [],
   "source": [
    "freqs = []\n",
    "fields = []\n",
    "size = []\n",
    "third = []\n",
    "fifth = []\n",
    "hsize = []\n",
    "sigma = []\n",
    "eta = []\n",
    "b = []\n",
    "K = []\n",
    "phase1 = []\n",
    "phase3 = []\n",
    "gyro = []\n",
    "\n",
    "for f in os.listdir('fits2'):\n",
    "    if f[-1] == 'v':\n",
    "        filename = 'fits2/' + f\n",
    "        filedata = np.genfromtxt(filename, delimiter=',')\n",
    "        f = f[:-4]\n",
    "        s = str.split(f,\"_\")\n",
    "        size.append(float(s[0][:-2]))\n",
    "        fields.append(float(s[1][:-2]))\n",
    "        freqs.append(int(s[2][:-3])*1000)\n",
    "        sigma.append(0.1)\n",
    "        eta.append(8.9e-4)\n",
    "        moment = filedata[:,1]\n",
    "        third.append(abs(np.fft.fft(moment)[3]))\n",
    "        fifth.append(abs(np.fft.fft(moment)[5]))\n",
    "        phase1.append(np.angle(np.fft.fft(moment)[1]))\n",
    "        phase3.append(np.angle(np.fft.fft(moment)[3]))\n",
    "        if s[-1] == \"frozen\":\n",
    "            b.append(\"off\")\n",
    "        else:\n",
    "            b.append(\"on\")     \n",
    "        g = 1.\n",
    "        h = 50.\n",
    "        k = 5000.\n",
    "        for ss in range(2,len(s)):\n",
    "            if s[ss][0] == \"g\":\n",
    "                g = float(s[ss][1:])\n",
    "            if s[ss][0] == \"K\":\n",
    "                k = 1000*float(s[ss][1:])\n",
    "                if k > 25000:\n",
    "                    k /= 1000.\n",
    "            if s[ss][0] == \"H\":\n",
    "                h = float(s[ss][1:])\n",
    "        K.append(k)\n",
    "        hsize.append(h)\n",
    "        gyro.append(g)\n",
    "            \n",
    "         \n",
    "sdata = pd.DataFrame({'frequency': freqs, 'field': fields,'size': size, 'sigma': sigma, \\\n",
    "                     'third': third, 'fifth': fifth, 'hsize': hsize, 'eta': eta, 'b': b, \\\n",
    "                     'K': K, 'phase1': phase1, 'phase3': phase3, 'gyro': gyro})\n",
    "\n",
    "sdata['5:3'] = sdata['fifth']/sdata['third']\n",
    "sdata['angF'] = 2*np.pi*sdata['frequency']\n",
    "sdata['Vc'] = vol(sdata['size'])\n",
    "sdata['Ms'] = 393023 * (1 - np.exp(-2.78258e8 * sdata['size']*1e-9))**57.87571 \n",
    "sdata['tauB'] = calc_brown(sdata['eta'],sdata['hsize'])\n",
    "sdata['tauN'] = calc_neel(sdata['size'], sdata['K'])\n",
    "sdata['tan1'] = abs(np.tan(sdata['phase1']))\n",
    "sdata['tan3'] = abs(np.tan(sdata['phase3']))\n",
    "sdata['tau'] = sdata['tan1']/sdata['angF']"
   ]
  },
  {
   "cell_type": "code",
   "execution_count": 8,
   "metadata": {
    "collapsed": true
   },
   "outputs": [],
   "source": [
    "for index, row in sdata.iterrows():\n",
    "    T = row['frequency']**(-1)\n",
    "    t = np.arange(0,T,T/1000.)\n",
    "    H = 0.001*row['field']*np.cos(row['angF']*t)\n",
    "    V = (4/3)*np.pi*(row['size']*1e-9/2)**3\n",
    "    xi = row['Ms']*V*H/(kb*temp)\n",
    "    L = np.cosh(xi)/np.sinh(xi) - 1/xi\n",
    "    sdata.loc[index,'L5:3'] = abs(np.fft.fft(L)[5])/abs(np.fft.fft(L)[3])"
   ]
  },
  {
   "cell_type": "markdown",
   "metadata": {},
   "source": [
    "### define fitting functions"
   ]
  },
  {
   "cell_type": "code",
   "execution_count": 9,
   "metadata": {
    "collapsed": true
   },
   "outputs": [],
   "source": [
    "def taufunc1(h, ms, v,gamma, A, B):\n",
    "    xi = ms*v*h/(kb*temp)\n",
    "    return gamma*(np.sqrt(1 + A*xi**B))**(-1)\n",
    "\n",
    "def taufunc2(xi,gamma, A, B):\n",
    "    return gamma*np.exp(-A*xi**(B))\n",
    "\n",
    "def taufunc3(xi, A, B):\n",
    "    return np.exp(-np.log(xi/A)**2/(2*B**2))*(np.sqrt(2*np.pi)*xi*B)\n",
    "\n",
    "def taufuncN(h, ms, v, tN,A, B):\n",
    "    xi = ms*v*h/(kb*temp)\n",
    "    return tN*(np.sqrt(1 + A*xi**B))**(-1)\n",
    "\n",
    "def taufuncB(h, ms, v, tB, A, B):\n",
    "    xi = ms*v*h/(kb*temp)\n",
    "    return tB*(np.sqrt(1 + A*xi**B))**(-1)\n",
    "\n",
    "def taufuncE(h, ms, v, tN,tB, A, B):\n",
    "    xi = ms*v*h/(kb*temp)\n",
    "    tE = (tN*tB)/(tN + tB)\n",
    "    return tE*(np.sqrt(1 + A*xi**B))**(-1)\n",
    "\n",
    "def linefit(x, m, bb):\n",
    "    return m*x + bb"
   ]
  },
  {
   "cell_type": "markdown",
   "metadata": {},
   "source": [
    "### example fit to tau"
   ]
  },
  {
   "cell_type": "code",
   "execution_count": 12,
   "metadata": {
    "collapsed": false
   },
   "outputs": [
    {
     "name": "stdout",
     "output_type": "stream",
     "text": [
      "{'B': 1.9564589846947911, 'A': 26.062092758600524}\n",
      "2.56285248911e-14\n"
     ]
    },
    {
     "data": {
      "image/png": "[encoded data removed]",
      "text/plain": [
       "<matplotlib.figure.Figure at 0x1a1489a748>"
      ]
     },
     "metadata": {},
     "output_type": "display_data"
    }
   ],
   "source": [
    "tmodelN = Model(taufuncN, independent_vars=['h','v', 'ms','tN'])\n",
    "tmodelN.set_param_hint('A', min=0)\n",
    "tmodelN.set_param_hint('B', min=0, max=5)\n",
    "\n",
    "traindata = sdata[(sdata['size'] == 24) &(sdata['frequency'] == 25000)& (sdata['K'] == 5000)& (sdata['gyro'] == 100) &(sdata['b'] == \"off\") & (sdata['field'] > 10)]\n",
    "cutdata = sdata[(sdata['size'] == 24) & (sdata['frequency'] == 25000)& (sdata['K']== 5000)& (sdata['gyro'] == 100)& (sdata['b'] == \"off\") & (sdata['field'] > 10)]\n",
    "\n",
    "result = tmodelN.fit(traindata['tau'], h = 0.001*traindata['field'], v = traindata['Vc'], ms = traindata['Ms'], tN=traindata['tauN']*10, \\\n",
    "                     A = 10000, B=1, nan_policy='omit', method='leastsq')\n",
    "\n",
    "print(result.values)\n",
    "print(result.chisqr)\n",
    "\n",
    "cutdata = cutdata.sort_values(by=['field'])\n",
    "scatter(cutdata['field'], cutdata['tau'])\n",
    "plot(cutdata['field'], taufuncN(h = 0.001*cutdata['field'], v = cutdata['Vc'], ms = cutdata['Ms'],tN=cutdata['tauN']*10,**result.values))\n",
    "ylim(0,0.2e-5)\n",
    "show()"
   ]
  },
  {
   "cell_type": "markdown",
   "metadata": {},
   "source": [
    "### fit to tauN"
   ]
  },
  {
   "cell_type": "code",
   "execution_count": 13,
   "metadata": {
    "collapsed": true
   },
   "outputs": [],
   "source": [
    "tmodelN = Model(taufuncN, independent_vars=['h','v', 'ms', 'tN'])\n",
    "tmodelN.set_param_hint('A', min=0)\n",
    "tmodelN.set_param_hint('B', min=0, max=5)\n",
    "\n",
    "size = []\n",
    "Vc = []\n",
    "A = []\n",
    "B = []\n",
    "chi = []\n",
    "\n",
    "for x in range(16,36):\n",
    "    traindata = sdata[(sdata['size'] == float(x)) & (sdata['frequency'] == 25000)& (sdata['K'] == 5000)& (sdata['gyro'] == 100) &(sdata['b'] == \"off\")]\n",
    "\n",
    "    result = tmodelN.fit(traindata['tau'], h = 0.001*traindata['field'], v = traindata['Vc'], ms = traindata['Ms'], tN=traindata['tauN']*10, \\\n",
    "                     A = 1, B=1, nan_policy='omit', method='leastsq')\n",
    "\n",
    "    size.append(float(x))\n",
    "    A.append(result.params['A'].value)\n",
    "    B.append(result.params['B'].value)\n",
    "    chi.append(result.chisqr)\n",
    "    Vc.append((4/3.)*np.pi*(float(x)/2.)**3)\n",
    "    \n",
    "    \n",
    "taufitN = pd.DataFrame({'size': size, 'Vc':Vc,'A': A, 'B': B, 'chi': chi})"
   ]
  },
  {
   "cell_type": "code",
   "execution_count": 14,
   "metadata": {
    "collapsed": false
   },
   "outputs": [
    {
     "data": {
      "text/html": [
       "<div>\n",
       "<style scoped>\n",
       "    .dataframe tbody tr th:only-of-type {\n",
       "        vertical-align: middle;\n",
       "    }\n",
       "\n",
       "    .dataframe tbody tr th {\n",
       "        vertical-align: top;\n",
       "    }\n",
       "\n",
       "    .dataframe thead th {\n",
       "        text-align: right;\n",
       "    }\n",
       "</style>\n",
       "<table border=\"1\" class=\"dataframe\">\n",
       "  <thead>\n",
       "    <tr style=\"text-align: right;\">\n",
       "      <th></th>\n",
       "      <th>A</th>\n",
       "      <th>B</th>\n",
       "      <th>Vc</th>\n",
       "      <th>chi</th>\n",
       "      <th>size</th>\n",
       "    </tr>\n",
       "  </thead>\n",
       "  <tbody>\n",
       "    <tr>\n",
       "      <th>count</th>\n",
       "      <td>2.000000e+01</td>\n",
       "      <td>20.000000</td>\n",
       "      <td>20.000000</td>\n",
       "      <td>2.000000e+01</td>\n",
       "      <td>20.00000</td>\n",
       "    </tr>\n",
       "    <tr>\n",
       "      <th>mean</th>\n",
       "      <td>3.905031e+07</td>\n",
       "      <td>2.425195</td>\n",
       "      <td>10013.826583</td>\n",
       "      <td>1.212703e-06</td>\n",
       "      <td>25.50000</td>\n",
       "    </tr>\n",
       "    <tr>\n",
       "      <th>std</th>\n",
       "      <td>1.665258e+08</td>\n",
       "      <td>1.571555</td>\n",
       "      <td>6345.932701</td>\n",
       "      <td>5.239474e-06</td>\n",
       "      <td>5.91608</td>\n",
       "    </tr>\n",
       "    <tr>\n",
       "      <th>min</th>\n",
       "      <td>2.176037e-14</td>\n",
       "      <td>0.000126</td>\n",
       "      <td>2144.660585</td>\n",
       "      <td>1.992284e-14</td>\n",
       "      <td>16.00000</td>\n",
       "    </tr>\n",
       "    <tr>\n",
       "      <th>25%</th>\n",
       "      <td>2.023113e-01</td>\n",
       "      <td>1.950270</td>\n",
       "      <td>4683.983747</td>\n",
       "      <td>3.401819e-14</td>\n",
       "      <td>20.75000</td>\n",
       "    </tr>\n",
       "    <tr>\n",
       "      <th>50%</th>\n",
       "      <td>6.308107e+02</td>\n",
       "      <td>2.093278</td>\n",
       "      <td>8692.001474</td>\n",
       "      <td>6.813197e-14</td>\n",
       "      <td>25.50000</td>\n",
       "    </tr>\n",
       "    <tr>\n",
       "      <th>75%</th>\n",
       "      <td>5.629213e+05</td>\n",
       "      <td>2.667812</td>\n",
       "      <td>14502.507987</td>\n",
       "      <td>2.581501e-11</td>\n",
       "      <td>30.25000</td>\n",
       "    </tr>\n",
       "    <tr>\n",
       "      <th>max</th>\n",
       "      <td>7.459428e+08</td>\n",
       "      <td>4.999979</td>\n",
       "      <td>22449.297504</td>\n",
       "      <td>2.346037e-05</td>\n",
       "      <td>35.00000</td>\n",
       "    </tr>\n",
       "  </tbody>\n",
       "</table>\n",
       "</div>"
      ],
      "text/plain": [
       "                  A          B            Vc           chi      size\n",
       "count  2.000000e+01  20.000000     20.000000  2.000000e+01  20.00000\n",
       "mean   3.905031e+07   2.425195  10013.826583  1.212703e-06  25.50000\n",
       "std    1.665258e+08   1.571555   6345.932701  5.239474e-06   5.91608\n",
       "min    2.176037e-14   0.000126   2144.660585  1.992284e-14  16.00000\n",
       "25%    2.023113e-01   1.950270   4683.983747  3.401819e-14  20.75000\n",
       "50%    6.308107e+02   2.093278   8692.001474  6.813197e-14  25.50000\n",
       "75%    5.629213e+05   2.667812  14502.507987  2.581501e-11  30.25000\n",
       "max    7.459428e+08   4.999979  22449.297504  2.346037e-05  35.00000"
      ]
     },
     "execution_count": 14,
     "metadata": {},
     "output_type": "execute_result"
    }
   ],
   "source": [
    "taufitN.describe()"
   ]
  },
  {
   "cell_type": "code",
   "execution_count": 17,
   "metadata": {
    "collapsed": false
   },
   "outputs": [
    {
     "name": "stdout",
     "output_type": "stream",
     "text": [
      "{'m': 0.032612976761578372, 'bb': 1.1880557258295164}\n",
      "0.00102538866822\n"
     ]
    },
    {
     "data": {
      "image/png": "[encoded data removed]",
      "text/plain": [
       "<matplotlib.figure.Figure at 0x1a14a858d0>"
      ]
     },
     "metadata": {},
     "output_type": "display_data"
    }
   ],
   "source": [
    "lfit = Model(linefit, independent_vars=['x'])\n",
    "lfit.set_param_hint('m', min=0)\n",
    "lfit.set_param_hint('bb', min=0)\n",
    "result = lfit.fit(taufitN[(taufitN['chi'] < 1e-13)&(taufitN['size'] >21)]['B'], x=taufitN[(taufitN['chi'] < 1e-13)&(taufitN['size'] >21)]['size'],  \\\n",
    "                     m=.3, bb=1,nan_policy='omit', method='leastsq')\n",
    "print(result.values)\n",
    "print(result.chisqr)\n",
    "\n",
    "pl.plot(taufitN[(taufitN['chi'] < 1e-13)]['size'],linefit(taufitN[(taufitN['chi'] < 1e-13)]['size'],**result.values))\n",
    "pl.plot(taufitN[(taufitN['chi'] < 1e-13)]['size'], \\\n",
    "        taufitN[(taufitN['chi'] < 1e-13)]['B'],marker = 'o', linestyle=\"None\")\n",
    "pl.show()"
   ]
  },
  {
   "cell_type": "code",
   "execution_count": 16,
   "metadata": {
    "collapsed": false
   },
   "outputs": [
    {
     "name": "stdout",
     "output_type": "stream",
     "text": [
      "{'m': 0.0020210193088183726, 'bb': -11.387600194225666}\n",
      "0.308496385436\n"
     ]
    },
    {
     "data": {
      "image/png": "[encoded data removed]",
      "text/plain": [
       "<matplotlib.figure.Figure at 0x1a149152b0>"
      ]
     },
     "metadata": {},
     "output_type": "display_data"
    }
   ],
   "source": [
    "lfit = Model(linefit, independent_vars=['x'])\n",
    "lfit.set_param_hint('m', min=0)\n",
    "\n",
    "taufitN['logN'] = np.log(taufitN[(taufitN['chi'] < 1e-13)&(taufitN['size'] >21)]['A'])\n",
    "cut = taufitN[(taufitN['chi'] < 1e-13)&(taufitN['size'] >21)]\n",
    "\n",
    "result = lfit.fit(cut['logN'], x=cut['Vc'],  \\\n",
    "                     m=100000, bb=0,nan_policy='omit', method='leastsq')\n",
    "print(result.values)\n",
    "print(result.chisqr)\n",
    "\n",
    "pl.plot(cut['Vc'],linefit(cut['Vc'],**result.values))\n",
    "\n",
    "pl.plot(cut['Vc'], cut['logN'],marker = 'o', linestyle=\"None\")\n",
    "pl.show()"
   ]
  },
  {
   "cell_type": "markdown",
   "metadata": {},
   "source": [
    "### fit to tauE"
   ]
  },
  {
   "cell_type": "code",
   "execution_count": 18,
   "metadata": {
    "collapsed": true
   },
   "outputs": [],
   "source": [
    "tmodelE = Model(taufuncE, independent_vars=['h','v', 'ms', 'tB', 'tN'])\n",
    "tmodelE.set_param_hint('A', min=0)\n",
    "tmodelE.set_param_hint('B', min=0, max=5)\n",
    "\n",
    "size = []\n",
    "Vc = []\n",
    "A = []\n",
    "B = []\n",
    "chi = []\n",
    "\n",
    "for x in range(16,36):\n",
    "    traindata = sdata[(sdata['size'] == float(x)) & (sdata['frequency'] == 25000)& (sdata['K'] == 5000)& (sdata['gyro'] == 100) &(sdata['b'] == \"off\")]\n",
    "\n",
    "    result = tmodelE.fit(traindata['tau'], h = 0.001*traindata['field'], v = traindata['Vc'], ms = traindata['Ms'], tB=traindata['tauB'],tN=traindata['tauN']*10, \\\n",
    "                     A = 1, B=1, nan_policy='omit', method='leastsq')\n",
    "\n",
    "    size.append(float(x))\n",
    "    A.append(result.params['A'].value)\n",
    "    B.append(result.params['B'].value)\n",
    "    chi.append(result.chisqr)\n",
    "    Vc.append((4/3.)*np.pi*(float(x)/2.)**3)\n",
    "    \n",
    "    \n",
    "taufitE = pd.DataFrame({'size': size, 'Vc':Vc,'A': A, 'B': B, 'chi': chi})"
   ]
  },
  {
   "cell_type": "code",
   "execution_count": 19,
   "metadata": {
    "collapsed": false
   },
   "outputs": [
    {
     "data": {
      "text/html": [
       "<div>\n",
       "<style scoped>\n",
       "    .dataframe tbody tr th:only-of-type {\n",
       "        vertical-align: middle;\n",
       "    }\n",
       "\n",
       "    .dataframe tbody tr th {\n",
       "        vertical-align: top;\n",
       "    }\n",
       "\n",
       "    .dataframe thead th {\n",
       "        text-align: right;\n",
       "    }\n",
       "</style>\n",
       "<table border=\"1\" class=\"dataframe\">\n",
       "  <thead>\n",
       "    <tr style=\"text-align: right;\">\n",
       "      <th></th>\n",
       "      <th>A</th>\n",
       "      <th>B</th>\n",
       "      <th>Vc</th>\n",
       "      <th>chi</th>\n",
       "      <th>size</th>\n",
       "    </tr>\n",
       "  </thead>\n",
       "  <tbody>\n",
       "    <tr>\n",
       "      <th>count</th>\n",
       "      <td>2.000000e+01</td>\n",
       "      <td>20.000000</td>\n",
       "      <td>20.000000</td>\n",
       "      <td>2.000000e+01</td>\n",
       "      <td>20.00000</td>\n",
       "    </tr>\n",
       "    <tr>\n",
       "      <th>mean</th>\n",
       "      <td>1.230446e+00</td>\n",
       "      <td>1.878184</td>\n",
       "      <td>10013.826583</td>\n",
       "      <td>3.731510e-12</td>\n",
       "      <td>25.50000</td>\n",
       "    </tr>\n",
       "    <tr>\n",
       "      <th>std</th>\n",
       "      <td>1.567790e+00</td>\n",
       "      <td>0.880644</td>\n",
       "      <td>6345.932701</td>\n",
       "      <td>1.060533e-11</td>\n",
       "      <td>5.91608</td>\n",
       "    </tr>\n",
       "    <tr>\n",
       "      <th>min</th>\n",
       "      <td>2.569056e-12</td>\n",
       "      <td>0.000096</td>\n",
       "      <td>2144.660585</td>\n",
       "      <td>2.061536e-14</td>\n",
       "      <td>16.00000</td>\n",
       "    </tr>\n",
       "    <tr>\n",
       "      <th>25%</th>\n",
       "      <td>1.296427e-01</td>\n",
       "      <td>1.953096</td>\n",
       "      <td>4683.983747</td>\n",
       "      <td>3.516217e-14</td>\n",
       "      <td>20.75000</td>\n",
       "    </tr>\n",
       "    <tr>\n",
       "      <th>50%</th>\n",
       "      <td>5.084814e-01</td>\n",
       "      <td>2.094884</td>\n",
       "      <td>8692.001474</td>\n",
       "      <td>6.906902e-14</td>\n",
       "      <td>25.50000</td>\n",
       "    </tr>\n",
       "    <tr>\n",
       "      <th>75%</th>\n",
       "      <td>1.942281e+00</td>\n",
       "      <td>2.208049</td>\n",
       "      <td>14502.507987</td>\n",
       "      <td>1.351374e-13</td>\n",
       "      <td>30.25000</td>\n",
       "    </tr>\n",
       "    <tr>\n",
       "      <th>max</th>\n",
       "      <td>5.013294e+00</td>\n",
       "      <td>3.653136</td>\n",
       "      <td>22449.297504</td>\n",
       "      <td>4.430150e-11</td>\n",
       "      <td>35.00000</td>\n",
       "    </tr>\n",
       "  </tbody>\n",
       "</table>\n",
       "</div>"
      ],
      "text/plain": [
       "                  A          B            Vc           chi      size\n",
       "count  2.000000e+01  20.000000     20.000000  2.000000e+01  20.00000\n",
       "mean   1.230446e+00   1.878184  10013.826583  3.731510e-12  25.50000\n",
       "std    1.567790e+00   0.880644   6345.932701  1.060533e-11   5.91608\n",
       "min    2.569056e-12   0.000096   2144.660585  2.061536e-14  16.00000\n",
       "25%    1.296427e-01   1.953096   4683.983747  3.516217e-14  20.75000\n",
       "50%    5.084814e-01   2.094884   8692.001474  6.906902e-14  25.50000\n",
       "75%    1.942281e+00   2.208049  14502.507987  1.351374e-13  30.25000\n",
       "max    5.013294e+00   3.653136  22449.297504  4.430150e-11  35.00000"
      ]
     },
     "execution_count": 19,
     "metadata": {},
     "output_type": "execute_result"
    }
   ],
   "source": [
    "taufitE.describe()"
   ]
  },
  {
   "cell_type": "code",
   "execution_count": 20,
   "metadata": {
    "collapsed": false
   },
   "outputs": [
    {
     "name": "stdout",
     "output_type": "stream",
     "text": [
      "{'m': 0.029068735911438548, 'bb': 1.2811149951568024}\n",
      "0.00291222558245\n"
     ]
    },
    {
     "data": {
      "image/png": "[encoded data removed]",
      "text/plain": [
       "<matplotlib.figure.Figure at 0x1a1e38f898>"
      ]
     },
     "metadata": {},
     "output_type": "display_data"
    }
   ],
   "source": [
    "lfit = Model(linefit, independent_vars=['x'])\n",
    "lfit.set_param_hint('m', min=0)\n",
    "lfit.set_param_hint('bb', min=0)\n",
    "result = lfit.fit(taufitE[(taufitE['chi'] < 1e-13)&(taufitE['size'] >21)]['B'], x=taufitE[(taufitE['chi'] < 1e-13)&(taufitE['size'] >21)]['size'],  \\\n",
    "                     m=.3, bb=1,nan_policy='omit', method='leastsq')\n",
    "print(result.values)\n",
    "print(result.chisqr)\n",
    "pl.plot(taufitE[(taufitE['chi'] < 1e-13)]['size'],linefit(taufitE[(taufitE['chi'] < 1e-13)]['size'],**result.values))\n",
    "\n",
    "\n",
    "pl.plot(taufitE[(taufitE['chi'] < 1e-13)]['size'], taufitE[(taufitE['chi'] < 1e-13)]['B'],marker = 'o', linestyle=\"None\")\n",
    "pl.show()"
   ]
  },
  {
   "cell_type": "code",
   "execution_count": 21,
   "metadata": {
    "collapsed": false
   },
   "outputs": [
    {
     "name": "stdout",
     "output_type": "stream",
     "text": [
      "{'B': 25577317.138051756, 'A': 1.1464946117214374e-06}\n",
      "36.8818337812\n"
     ]
    },
    {
     "data": {
      "image/png": "[encoded data removed]",
      "text/plain": [
       "<matplotlib.figure.Figure at 0x1a1e2a69e8>"
      ]
     },
     "metadata": {},
     "output_type": "display_data"
    }
   ],
   "source": [
    "logfit = Model(taufunc3, independent_vars=['xi'])\n",
    "\n",
    "result = logfit.fit(taufitE[(taufitE['chi'] < 1e-13)]['A'], xi=taufitE[(taufitE['chi'] < 1e-13)]['size']*1e-9,  \\\n",
    "                     A=25e-9,B=.1,nan_policy='omit', method='leastsq')\n",
    "\n",
    "print(result.values)\n",
    "print(result.chisqr)\n",
    "\n",
    "pl.plot(taufitE[(taufitE['chi'] < 1e-13)]['size']*1e-9,1e9*taufunc3(xi=taufitE[(taufitE['chi'] < 1e-13)]['size']*1e-9,A=25e-9, B=.076))\n",
    "\n",
    "pl.plot(taufitE[(taufitE['chi'] < 1e-13)]['size']*1e-9, \\\n",
    "        taufitE[(taufitE['chi'] < 1e-13)]['A'],marker = 'o', linestyle=\"None\")\n",
    "\n",
    "pl.show()"
   ]
  },
  {
   "cell_type": "markdown",
   "metadata": {},
   "source": [
    "### calculate effective relaxation times"
   ]
  },
  {
   "cell_type": "code",
   "execution_count": 22,
   "metadata": {
    "collapsed": true
   },
   "outputs": [],
   "source": [
    "sdata['tauEff'] = sdata['tauN']*sdata['tauB']*((sdata['tauN'] + sdata['tauB'])* \\\n",
    "                    np.sqrt(1 + taufunc3(xi=sdata['size'], A=25, B=0.076)*(sdata['Ms']*sdata['Vc']* \\\n",
    "                    sdata['field']/(kb*temp))**(0.029*sdata['size'] + 1.28)))**(-1)\n",
    "\n",
    "trimdata['tauEff'] = trimdata['tauN']*trimdata['tauB']*((trimdata['tauN'] + trimdata['tauB'])* \\\n",
    "                    np.sqrt(1 + taufunc3(xi=trimdata['size'], A=25, B=0.076)*(trimdata['Ms']*trimdata['Vc']* \\\n",
    "                    trimdata['field']/(kb*temp))**(0.029*trimdata['size'] + 1.28)))**(-1)"
   ]
  },
  {
   "cell_type": "markdown",
   "metadata": {},
   "source": [
    "### fit to 5:3 data"
   ]
  },
  {
   "cell_type": "code",
   "execution_count": 23,
   "metadata": {
    "collapsed": true
   },
   "outputs": [],
   "source": [
    "def funcM(ratio, h, v, ms, tau, omega, A, B, beta):\n",
    "    xi = ms*v*h/(kb*temp)\n",
    "    return ratio*(1 + A*xi**B*(omega*tau)**beta)**(-1)"
   ]
  },
  {
   "cell_type": "code",
   "execution_count": 24,
   "metadata": {
    "collapsed": false
   },
   "outputs": [
    {
     "name": "stdout",
     "output_type": "stream",
     "text": [
      "{'beta': 1.4810321421813066, 'B': 4.8404902308618603e-10, 'A': 11406.825240112057}\n",
      "0.068181391036\n"
     ]
    },
    {
     "data": {
      "image/png": "[encoded data removed]",
      "text/plain": [
       "<matplotlib.figure.Figure at 0x1a1e3b1cf8>"
      ]
     },
     "metadata": {},
     "output_type": "display_data"
    }
   ],
   "source": [
    "traindata = trimdata[(trimdata['frequency'] == 25250)& (trimdata['viscosity'] == 0.0)]\n",
    "cutdata = traindata[(traindata['size'] == 27.7)]\n",
    "\n",
    "modelM = Model(funcM, independent_vars=['ratio','h', 'tau','v', 'ms','omega'])\n",
    "modelM.set_param_hint('A', min=0)\n",
    "modelM.set_param_hint('B', min=0)\n",
    "modelM.set_param_hint('beta', min=0)\n",
    "\n",
    "result = modelM.fit(traindata['5:3'], ratio=traindata['L5:3'], h=0.001*traindata['field'], v = traindata['Vc'], tau = traindata['tauEff'], \\\n",
    "                    ms = traindata['Ms'], omega = traindata['angF'],A = 1, B= 1, beta = 1.1, nan_policy='omit', method='leastsq')\n",
    "result2 = modelM.fit(traindata['5:3'], ratio=traindata['L5:3'], h=0.001*traindata['field'], v = traindata['Vc'], tau = traindata['tauB'], \\\n",
    "                    ms = traindata['Ms'], omega = traindata['angF'],A = 1, B= 1, beta = 1.1, nan_policy='omit', method='leastsq')\n",
    "\n",
    "\n",
    "print(result.values)\n",
    "print(result.chisqr)\n",
    "\n",
    "cutdata = cutdata.sort_values(by=['field'])\n",
    "scatter(cutdata['field'], cutdata['5:3'])\n",
    "plot(cutdata['field'], funcM(ratio=cutdata['L5:3'],h=0.001*cutdata['field'], v = cutdata['Vc'], tau=cutdata['tauEff'],ms = cutdata['Ms'],omega=cutdata['angF'],**result.values),c=\"b\")\n",
    "plot(cutdata['field'], funcM(ratio=cutdata['L5:3'],h=0.001*cutdata['field'], v = cutdata['Vc'], tau=cutdata['tauB'],ms = cutdata['Ms'],omega=cutdata['angF'],**result2.values),c=\"r\")\n",
    "\n",
    "show()"
   ]
  },
  {
   "cell_type": "code",
   "execution_count": null,
   "metadata": {
    "collapsed": true
   },
   "outputs": [],
   "source": []
  }
 ],
 "metadata": {
  "kernelspec": {
   "display_name": "Python [conda env:miniconda3]",
   "language": "python",
   "name": "conda-env-miniconda3-py"
  },
  "language_info": {
   "codemirror_mode": {
    "name": "ipython",
    "version": 3
   },
   "file_extension": ".py",
   "mimetype": "text/x-python",
   "name": "python",
   "nbconvert_exporter": "python",
   "pygments_lexer": "ipython3",
   "version": "3.5.2"
  }
 },
 "nbformat": 4,
 "nbformat_minor": 1
}
