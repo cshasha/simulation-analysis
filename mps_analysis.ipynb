{
 "cells": [
  {
   "cell_type": "code",
   "execution_count": 1,
   "metadata": {
    "collapsed": true
   },
   "outputs": [],
   "source": [
    "from numpy import genfromtxt\n",
    "import numpy as np\n",
    "import math\n",
    "from pylab import *\n",
    "import urllib\n",
    "import os\n",
    "import matplotlib.pyplot as pl\n",
    "import pandas as pd\n",
    "from __future__ import division\n",
    "pl.style.use('seaborn-dark-palette')\n",
    "pl.rc('font',family='Arial')"
   ]
  },
  {
   "cell_type": "markdown",
   "metadata": {},
   "source": [
    "## calculate FWHM"
   ]
  },
  {
   "cell_type": "code",
   "execution_count": 35,
   "metadata": {
    "collapsed": false
   },
   "outputs": [
    {
     "name": "stdout",
     "output_type": "stream",
     "text": [
      "0.23349100688\n"
     ]
    }
   ],
   "source": [
    "data = pd.read_csv('MPS-march/26khz-20mT-28nm-g0 -_MPS_dat.csv',delimiter=',',usecols=[\"fld[mT]\",\"fwdpsf[V]\"])\n",
    "data.columns = ['field', 'psf']\n",
    "maxidx = data['psf'].idxmax()\n",
    "max_val = data.iloc[maxidx]['psf']\n",
    "hm = data.iloc[maxidx]['psf']/2\n",
    "fwhm = data[(data['psf']>hm) & (data['field']> (data.iloc[0]['field'] + 3))]\n",
    "fwhm_val = max(fwhm['field']) - min(fwhm['field'])\n",
    "fwhm_pct = -fwhm_val/data.iloc[0]['field']"
   ]
  },
  {
   "cell_type": "code",
   "execution_count": null,
   "metadata": {
    "collapsed": true
   },
   "outputs": [],
   "source": []
  }
 ],
 "metadata": {
  "anaconda-cloud": {},
  "kernelspec": {
   "display_name": "Python [conda env:miniconda3]",
   "language": "python",
   "name": "conda-env-miniconda3-py"
  },
  "language_info": {
   "codemirror_mode": {
    "name": "ipython",
    "version": 3
   },
   "file_extension": ".py",
   "mimetype": "text/x-python",
   "name": "python",
   "nbconvert_exporter": "python",
   "pygments_lexer": "ipython3",
   "version": "3.5.2"
  }
 },
 "nbformat": 4,
 "nbformat_minor": 1
}
